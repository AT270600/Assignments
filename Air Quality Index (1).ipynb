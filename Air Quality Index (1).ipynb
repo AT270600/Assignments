{
 "cells": [
  {
   "cell_type": "markdown",
   "id": "edbc1c5d",
   "metadata": {},
   "source": [
    "# Air Quality Index"
   ]
  },
  {
   "cell_type": "markdown",
   "id": "9e801591",
   "metadata": {},
   "source": [
    "## Prepared by: Appurva Talashilkar"
   ]
  },
  {
   "cell_type": "markdown",
   "id": "a5eebb10",
   "metadata": {},
   "source": [
    "Feature Names:\n",
    "\n",
    "stn code\n",
    "\n",
    "sampling_date\n",
    "\n",
    "state\n",
    "\n",
    "location\n",
    "\n",
    "agency\n",
    "\n",
    "type\n",
    "\n",
    "so2\n",
    "\n",
    "no2\n",
    "\n",
    "rspm\n",
    "\n",
    "spm\n",
    "\n",
    "location_monitoring_station\t\n",
    "\n",
    "pm2_5\t\n",
    "\n",
    "date"
   ]
  },
  {
   "cell_type": "markdown",
   "id": "99e40e25",
   "metadata": {},
   "source": [
    "### Importing Libraries"
   ]
  },
  {
   "cell_type": "code",
   "execution_count": 143,
   "id": "4a6df043",
   "metadata": {},
   "outputs": [],
   "source": [
    "import pandas as pd\n",
    "import numpy as np\n",
    "import matplotlib.pyplot as plt\n",
    "import seaborn as sns\n"
   ]
  },
  {
   "cell_type": "markdown",
   "id": "343323f8",
   "metadata": {},
   "source": [
    "### Loading Dataset"
   ]
  },
  {
   "cell_type": "code",
   "execution_count": 144,
   "id": "69256970",
   "metadata": {},
   "outputs": [
    {
     "name": "stderr",
     "output_type": "stream",
     "text": [
      "/Users/APPLE/opt/anaconda3/lib/python3.8/site-packages/IPython/core/interactiveshell.py:3165: DtypeWarning: Columns (0) have mixed types.Specify dtype option on import or set low_memory=False.\n",
      "  has_raised = await self.run_ast_nodes(code_ast.body, cell_name,\n"
     ]
    }
   ],
   "source": [
    "df = pd.read_csv('Desktop/data.csv')\n"
   ]
  },
  {
   "cell_type": "markdown",
   "id": "283915cb",
   "metadata": {},
   "source": [
    "### Data Exploration"
   ]
  },
  {
   "cell_type": "code",
   "execution_count": 145,
   "id": "2be6ea03",
   "metadata": {},
   "outputs": [
    {
     "data": {
      "text/html": [
       "<div>\n",
       "<style scoped>\n",
       "    .dataframe tbody tr th:only-of-type {\n",
       "        vertical-align: middle;\n",
       "    }\n",
       "\n",
       "    .dataframe tbody tr th {\n",
       "        vertical-align: top;\n",
       "    }\n",
       "\n",
       "    .dataframe thead th {\n",
       "        text-align: right;\n",
       "    }\n",
       "</style>\n",
       "<table border=\"1\" class=\"dataframe\">\n",
       "  <thead>\n",
       "    <tr style=\"text-align: right;\">\n",
       "      <th></th>\n",
       "      <th>stn_code</th>\n",
       "      <th>sampling_date</th>\n",
       "      <th>state</th>\n",
       "      <th>location</th>\n",
       "      <th>agency</th>\n",
       "      <th>type</th>\n",
       "      <th>so2</th>\n",
       "      <th>no2</th>\n",
       "      <th>rspm</th>\n",
       "      <th>spm</th>\n",
       "      <th>location_monitoring_station</th>\n",
       "      <th>pm2_5</th>\n",
       "      <th>date</th>\n",
       "    </tr>\n",
       "  </thead>\n",
       "  <tbody>\n",
       "    <tr>\n",
       "      <th>0</th>\n",
       "      <td>150.0</td>\n",
       "      <td>February - M021990</td>\n",
       "      <td>Andhra Pradesh</td>\n",
       "      <td>Hyderabad</td>\n",
       "      <td>NaN</td>\n",
       "      <td>Residential, Rural and other Areas</td>\n",
       "      <td>4.8</td>\n",
       "      <td>17.4</td>\n",
       "      <td>NaN</td>\n",
       "      <td>NaN</td>\n",
       "      <td>NaN</td>\n",
       "      <td>NaN</td>\n",
       "      <td>1990-02-01</td>\n",
       "    </tr>\n",
       "    <tr>\n",
       "      <th>1</th>\n",
       "      <td>151.0</td>\n",
       "      <td>February - M021990</td>\n",
       "      <td>Andhra Pradesh</td>\n",
       "      <td>Hyderabad</td>\n",
       "      <td>NaN</td>\n",
       "      <td>Industrial Area</td>\n",
       "      <td>3.1</td>\n",
       "      <td>7.0</td>\n",
       "      <td>NaN</td>\n",
       "      <td>NaN</td>\n",
       "      <td>NaN</td>\n",
       "      <td>NaN</td>\n",
       "      <td>1990-02-01</td>\n",
       "    </tr>\n",
       "    <tr>\n",
       "      <th>2</th>\n",
       "      <td>152.0</td>\n",
       "      <td>February - M021990</td>\n",
       "      <td>Andhra Pradesh</td>\n",
       "      <td>Hyderabad</td>\n",
       "      <td>NaN</td>\n",
       "      <td>Residential, Rural and other Areas</td>\n",
       "      <td>6.2</td>\n",
       "      <td>28.5</td>\n",
       "      <td>NaN</td>\n",
       "      <td>NaN</td>\n",
       "      <td>NaN</td>\n",
       "      <td>NaN</td>\n",
       "      <td>1990-02-01</td>\n",
       "    </tr>\n",
       "    <tr>\n",
       "      <th>3</th>\n",
       "      <td>150.0</td>\n",
       "      <td>March - M031990</td>\n",
       "      <td>Andhra Pradesh</td>\n",
       "      <td>Hyderabad</td>\n",
       "      <td>NaN</td>\n",
       "      <td>Residential, Rural and other Areas</td>\n",
       "      <td>6.3</td>\n",
       "      <td>14.7</td>\n",
       "      <td>NaN</td>\n",
       "      <td>NaN</td>\n",
       "      <td>NaN</td>\n",
       "      <td>NaN</td>\n",
       "      <td>1990-03-01</td>\n",
       "    </tr>\n",
       "    <tr>\n",
       "      <th>4</th>\n",
       "      <td>151.0</td>\n",
       "      <td>March - M031990</td>\n",
       "      <td>Andhra Pradesh</td>\n",
       "      <td>Hyderabad</td>\n",
       "      <td>NaN</td>\n",
       "      <td>Industrial Area</td>\n",
       "      <td>4.7</td>\n",
       "      <td>7.5</td>\n",
       "      <td>NaN</td>\n",
       "      <td>NaN</td>\n",
       "      <td>NaN</td>\n",
       "      <td>NaN</td>\n",
       "      <td>1990-03-01</td>\n",
       "    </tr>\n",
       "  </tbody>\n",
       "</table>\n",
       "</div>"
      ],
      "text/plain": [
       "  stn_code       sampling_date           state   location agency  \\\n",
       "0    150.0  February - M021990  Andhra Pradesh  Hyderabad    NaN   \n",
       "1    151.0  February - M021990  Andhra Pradesh  Hyderabad    NaN   \n",
       "2    152.0  February - M021990  Andhra Pradesh  Hyderabad    NaN   \n",
       "3    150.0     March - M031990  Andhra Pradesh  Hyderabad    NaN   \n",
       "4    151.0     March - M031990  Andhra Pradesh  Hyderabad    NaN   \n",
       "\n",
       "                                 type  so2   no2  rspm  spm  \\\n",
       "0  Residential, Rural and other Areas  4.8  17.4   NaN  NaN   \n",
       "1                     Industrial Area  3.1   7.0   NaN  NaN   \n",
       "2  Residential, Rural and other Areas  6.2  28.5   NaN  NaN   \n",
       "3  Residential, Rural and other Areas  6.3  14.7   NaN  NaN   \n",
       "4                     Industrial Area  4.7   7.5   NaN  NaN   \n",
       "\n",
       "  location_monitoring_station  pm2_5        date  \n",
       "0                         NaN    NaN  1990-02-01  \n",
       "1                         NaN    NaN  1990-02-01  \n",
       "2                         NaN    NaN  1990-02-01  \n",
       "3                         NaN    NaN  1990-03-01  \n",
       "4                         NaN    NaN  1990-03-01  "
      ]
     },
     "execution_count": 145,
     "metadata": {},
     "output_type": "execute_result"
    }
   ],
   "source": [
    "df.head(5)"
   ]
  },
  {
   "cell_type": "code",
   "execution_count": 146,
   "id": "53930342",
   "metadata": {},
   "outputs": [
    {
     "data": {
      "text/plain": [
       "(435742, 13)"
      ]
     },
     "execution_count": 146,
     "metadata": {},
     "output_type": "execute_result"
    }
   ],
   "source": [
    "df.shape"
   ]
  },
  {
   "cell_type": "code",
   "execution_count": 147,
   "id": "5235ec91",
   "metadata": {},
   "outputs": [
    {
     "name": "stdout",
     "output_type": "stream",
     "text": [
      "<class 'pandas.core.frame.DataFrame'>\n",
      "RangeIndex: 435742 entries, 0 to 435741\n",
      "Data columns (total 13 columns):\n",
      " #   Column                       Non-Null Count   Dtype  \n",
      "---  ------                       --------------   -----  \n",
      " 0   stn_code                     291665 non-null  object \n",
      " 1   sampling_date                435739 non-null  object \n",
      " 2   state                        435742 non-null  object \n",
      " 3   location                     435739 non-null  object \n",
      " 4   agency                       286261 non-null  object \n",
      " 5   type                         430349 non-null  object \n",
      " 6   so2                          401096 non-null  float64\n",
      " 7   no2                          419509 non-null  float64\n",
      " 8   rspm                         395520 non-null  float64\n",
      " 9   spm                          198355 non-null  float64\n",
      " 10  location_monitoring_station  408251 non-null  object \n",
      " 11  pm2_5                        9314 non-null    float64\n",
      " 12  date                         435735 non-null  object \n",
      "dtypes: float64(5), object(8)\n",
      "memory usage: 43.2+ MB\n"
     ]
    }
   ],
   "source": [
    "df.info()"
   ]
  },
  {
   "cell_type": "code",
   "execution_count": 148,
   "id": "012df7e1",
   "metadata": {},
   "outputs": [
    {
     "data": {
      "text/html": [
       "<div>\n",
       "<style scoped>\n",
       "    .dataframe tbody tr th:only-of-type {\n",
       "        vertical-align: middle;\n",
       "    }\n",
       "\n",
       "    .dataframe tbody tr th {\n",
       "        vertical-align: top;\n",
       "    }\n",
       "\n",
       "    .dataframe thead th {\n",
       "        text-align: right;\n",
       "    }\n",
       "</style>\n",
       "<table border=\"1\" class=\"dataframe\">\n",
       "  <thead>\n",
       "    <tr style=\"text-align: right;\">\n",
       "      <th></th>\n",
       "      <th>so2</th>\n",
       "      <th>no2</th>\n",
       "      <th>rspm</th>\n",
       "      <th>spm</th>\n",
       "      <th>pm2_5</th>\n",
       "    </tr>\n",
       "  </thead>\n",
       "  <tbody>\n",
       "    <tr>\n",
       "      <th>count</th>\n",
       "      <td>401096.000000</td>\n",
       "      <td>419509.000000</td>\n",
       "      <td>395520.000000</td>\n",
       "      <td>198355.000000</td>\n",
       "      <td>9314.000000</td>\n",
       "    </tr>\n",
       "    <tr>\n",
       "      <th>mean</th>\n",
       "      <td>10.829414</td>\n",
       "      <td>25.809623</td>\n",
       "      <td>108.832784</td>\n",
       "      <td>220.783480</td>\n",
       "      <td>40.791467</td>\n",
       "    </tr>\n",
       "    <tr>\n",
       "      <th>std</th>\n",
       "      <td>11.177187</td>\n",
       "      <td>18.503086</td>\n",
       "      <td>74.872430</td>\n",
       "      <td>151.395457</td>\n",
       "      <td>30.832525</td>\n",
       "    </tr>\n",
       "    <tr>\n",
       "      <th>min</th>\n",
       "      <td>0.000000</td>\n",
       "      <td>0.000000</td>\n",
       "      <td>0.000000</td>\n",
       "      <td>0.000000</td>\n",
       "      <td>3.000000</td>\n",
       "    </tr>\n",
       "    <tr>\n",
       "      <th>25%</th>\n",
       "      <td>5.000000</td>\n",
       "      <td>14.000000</td>\n",
       "      <td>56.000000</td>\n",
       "      <td>111.000000</td>\n",
       "      <td>24.000000</td>\n",
       "    </tr>\n",
       "    <tr>\n",
       "      <th>50%</th>\n",
       "      <td>8.000000</td>\n",
       "      <td>22.000000</td>\n",
       "      <td>90.000000</td>\n",
       "      <td>187.000000</td>\n",
       "      <td>32.000000</td>\n",
       "    </tr>\n",
       "    <tr>\n",
       "      <th>75%</th>\n",
       "      <td>13.700000</td>\n",
       "      <td>32.200000</td>\n",
       "      <td>142.000000</td>\n",
       "      <td>296.000000</td>\n",
       "      <td>46.000000</td>\n",
       "    </tr>\n",
       "    <tr>\n",
       "      <th>max</th>\n",
       "      <td>909.000000</td>\n",
       "      <td>876.000000</td>\n",
       "      <td>6307.033333</td>\n",
       "      <td>3380.000000</td>\n",
       "      <td>504.000000</td>\n",
       "    </tr>\n",
       "  </tbody>\n",
       "</table>\n",
       "</div>"
      ],
      "text/plain": [
       "                 so2            no2           rspm            spm        pm2_5\n",
       "count  401096.000000  419509.000000  395520.000000  198355.000000  9314.000000\n",
       "mean       10.829414      25.809623     108.832784     220.783480    40.791467\n",
       "std        11.177187      18.503086      74.872430     151.395457    30.832525\n",
       "min         0.000000       0.000000       0.000000       0.000000     3.000000\n",
       "25%         5.000000      14.000000      56.000000     111.000000    24.000000\n",
       "50%         8.000000      22.000000      90.000000     187.000000    32.000000\n",
       "75%        13.700000      32.200000     142.000000     296.000000    46.000000\n",
       "max       909.000000     876.000000    6307.033333    3380.000000   504.000000"
      ]
     },
     "execution_count": 148,
     "metadata": {},
     "output_type": "execute_result"
    }
   ],
   "source": [
    "df.describe()"
   ]
  },
  {
   "cell_type": "code",
   "execution_count": 149,
   "id": "29372584",
   "metadata": {},
   "outputs": [
    {
     "data": {
      "text/plain": [
       "stn_code                        object\n",
       "sampling_date                   object\n",
       "state                           object\n",
       "location                        object\n",
       "agency                          object\n",
       "type                            object\n",
       "so2                            float64\n",
       "no2                            float64\n",
       "rspm                           float64\n",
       "spm                            float64\n",
       "location_monitoring_station     object\n",
       "pm2_5                          float64\n",
       "date                            object\n",
       "dtype: object"
      ]
     },
     "execution_count": 149,
     "metadata": {},
     "output_type": "execute_result"
    }
   ],
   "source": [
    "df.dtypes"
   ]
  },
  {
   "cell_type": "code",
   "execution_count": 150,
   "id": "3145ec57",
   "metadata": {},
   "outputs": [
    {
     "data": {
      "text/plain": [
       "stn_code                       144077\n",
       "sampling_date                       3\n",
       "state                               0\n",
       "location                            3\n",
       "agency                         149481\n",
       "type                             5393\n",
       "so2                             34646\n",
       "no2                             16233\n",
       "rspm                            40222\n",
       "spm                            237387\n",
       "location_monitoring_station     27491\n",
       "pm2_5                          426428\n",
       "date                                7\n",
       "dtype: int64"
      ]
     },
     "execution_count": 150,
     "metadata": {},
     "output_type": "execute_result"
    }
   ],
   "source": [
    "df.isnull().sum()"
   ]
  },
  {
   "cell_type": "code",
   "execution_count": 151,
   "id": "d872a0ff",
   "metadata": {},
   "outputs": [
    {
     "data": {
      "text/plain": [
       "Index(['stn_code', 'sampling_date', 'state', 'location', 'agency', 'type',\n",
       "       'so2', 'no2', 'rspm', 'spm', 'location_monitoring_station', 'pm2_5',\n",
       "       'date'],\n",
       "      dtype='object')"
      ]
     },
     "execution_count": 151,
     "metadata": {},
     "output_type": "execute_result"
    }
   ],
   "source": [
    "df.columns"
   ]
  },
  {
   "cell_type": "code",
   "execution_count": 152,
   "id": "056b842b",
   "metadata": {},
   "outputs": [
    {
     "data": {
      "text/plain": [
       "stn_code                        803\n",
       "sampling_date                  5485\n",
       "state                            37\n",
       "location                        304\n",
       "agency                           64\n",
       "type                             10\n",
       "so2                            4197\n",
       "no2                            6864\n",
       "rspm                           6065\n",
       "spm                            6668\n",
       "location_monitoring_station     991\n",
       "pm2_5                           433\n",
       "date                           5067\n",
       "dtype: int64"
      ]
     },
     "execution_count": 152,
     "metadata": {},
     "output_type": "execute_result"
    }
   ],
   "source": [
    "df.nunique()"
   ]
  },
  {
   "cell_type": "markdown",
   "id": "c162f507",
   "metadata": {},
   "source": [
    "### Data Visualization"
   ]
  },
  {
   "cell_type": "code",
   "execution_count": 153,
   "id": "5b1b17d1",
   "metadata": {},
   "outputs": [
    {
     "data": {
      "text/plain": [
       "<seaborn.axisgrid.PairGrid at 0x7fdf071703d0>"
      ]
     },
     "execution_count": 153,
     "metadata": {},
     "output_type": "execute_result"
    },
    {
     "data": {
      "image/png": "[encoded data removed]",
      "text/plain": [
       "<Figure size 900x900 with 30 Axes>"
      ]
     },
     "metadata": {
      "needs_background": "light"
     },
     "output_type": "display_data"
    }
   ],
   "source": [
    "sns.pairplot(data=df)"
   ]
  },
  {
   "cell_type": "code",
   "execution_count": 154,
   "id": "b388b76a",
   "metadata": {},
   "outputs": [
    {
     "data": {
      "text/plain": [
       "Maharashtra                    60384\n",
       "Uttar Pradesh                  42816\n",
       "Andhra Pradesh                 26368\n",
       "Punjab                         25634\n",
       "Rajasthan                      25589\n",
       "Kerala                         24728\n",
       "Himachal Pradesh               22896\n",
       "West Bengal                    22463\n",
       "Gujarat                        21279\n",
       "Tamil Nadu                     20597\n",
       "Madhya Pradesh                 19920\n",
       "Assam                          19361\n",
       "Odisha                         19279\n",
       "Karnataka                      17119\n",
       "Delhi                           8551\n",
       "Chandigarh                      8520\n",
       "Chhattisgarh                    7831\n",
       "Goa                             6206\n",
       "Jharkhand                       5968\n",
       "Mizoram                         5338\n",
       "Telangana                       3978\n",
       "Meghalaya                       3853\n",
       "Puducherry                      3785\n",
       "Haryana                         3420\n",
       "Nagaland                        2463\n",
       "Bihar                           2275\n",
       "Uttarakhand                     1961\n",
       "Jammu & Kashmir                 1289\n",
       "Daman & Diu                      782\n",
       "Dadra & Nagar Haveli             634\n",
       "Uttaranchal                      285\n",
       "Arunachal Pradesh                 90\n",
       "Manipur                           76\n",
       "Lakshadweep                        1\n",
       "andaman-and-nicobar-islands        1\n",
       "Sikkim                             1\n",
       "Tripura                            1\n",
       "Name: state, dtype: int64"
      ]
     },
     "execution_count": 154,
     "metadata": {},
     "output_type": "execute_result"
    }
   ],
   "source": [
    "df['state'].value_counts()"
   ]
  },
  {
   "cell_type": "code",
   "execution_count": 155,
   "id": "5fcf25a3",
   "metadata": {},
   "outputs": [
    {
     "data": {
      "image/png": "[encoded data removed]",
      "text/plain": [
       "<Figure size 1080x432 with 1 Axes>"
      ]
     },
     "metadata": {
      "needs_background": "light"
     },
     "output_type": "display_data"
    }
   ],
   "source": [
    "plt.figure(figsize=(15, 6))\n",
    "plt.xticks(rotation=90)\n",
    "plt.hist(df['state'], bins=20, color='skyblue', edgecolor='black')\n",
    "plt.title('Count of states present')\n",
    "plt.xlabel('state')\n",
    "plt.ylabel('Frequency')\n",
    "plt.grid(axis='y', alpha=0.75)\n",
    "plt.show()"
   ]
  },
  {
   "cell_type": "code",
   "execution_count": 156,
   "id": "b3bc0025",
   "metadata": {},
   "outputs": [
    {
     "data": {
      "text/plain": [
       "Residential, Rural and other Areas    179014\n",
       "Industrial Area                        96091\n",
       "Residential and others                 86791\n",
       "Industrial Areas                       51747\n",
       "Sensitive Area                          8980\n",
       "Sensitive Areas                         5536\n",
       "RIRUO                                   1304\n",
       "Sensitive                                495\n",
       "Industrial                               233\n",
       "Residential                              158\n",
       "Name: type, dtype: int64"
      ]
     },
     "execution_count": 156,
     "metadata": {},
     "output_type": "execute_result"
    }
   ],
   "source": [
    "df['type'].value_counts()"
   ]
  },
  {
   "cell_type": "code",
   "execution_count": 157,
   "id": "0fea9036",
   "metadata": {},
   "outputs": [
    {
     "data": {
      "text/plain": [
       "[]"
      ]
     },
     "execution_count": 157,
     "metadata": {},
     "output_type": "execute_result"
    },
    {
     "data": {
      "image/png": "[encoded data removed]",
      "text/plain": [
       "<Figure size 1080x432 with 1 Axes>"
      ]
     },
     "metadata": {
      "needs_background": "light"
     },
     "output_type": "display_data"
    }
   ],
   "source": [
    "plt.figure(figsize=(15, 6))\n",
    "plt.xticks(rotation=90)\n",
    "df.type.hist()\n",
    "plt.xlabel('Type')\n",
    "plt.ylabel('Frequency')\n",
    "plt.plot()"
   ]
  },
  {
   "cell_type": "code",
   "execution_count": 158,
   "id": "ff1f43c7",
   "metadata": {},
   "outputs": [
    {
     "data": {
      "text/plain": [
       "Maharashtra State Pollution Control Board                                 27857\n",
       "Uttar Pradesh State Pollution Control Board                               22686\n",
       "Andhra Pradesh State Pollution Control Board                              19139\n",
       "Himachal Pradesh State Environment Proection & Pollution Control Board    15287\n",
       "Punjab State Pollution Control Board                                      15232\n",
       "                                                                          ...  \n",
       "Arunachal Pradesh State Pollution Control Board                              90\n",
       "TNPC                                                                         82\n",
       "RPCB                                                                         63\n",
       "VRCE                                                                         61\n",
       "RJPB                                                                         53\n",
       "Name: agency, Length: 64, dtype: int64"
      ]
     },
     "execution_count": 158,
     "metadata": {},
     "output_type": "execute_result"
    }
   ],
   "source": [
    "df['agency'].value_counts()"
   ]
  },
  {
   "cell_type": "code",
   "execution_count": 159,
   "id": "31580367",
   "metadata": {},
   "outputs": [
    {
     "data": {
      "text/plain": [
       "[]"
      ]
     },
     "execution_count": 159,
     "metadata": {},
     "output_type": "execute_result"
    },
    {
     "data": {
      "image/png": "[encoded data removed]",
      "text/plain": [
       "<Figure size 1080x432 with 1 Axes>"
      ]
     },
     "metadata": {
      "needs_background": "light"
     },
     "output_type": "display_data"
    }
   ],
   "source": [
    "plt.figure(figsize=(15, 6))\n",
    "plt.xticks(rotation=90)\n",
    "df.agency.hist()\n",
    "plt.xlabel('Agency')\n",
    "plt.ylabel('Frequency')\n",
    "plt.plot()"
   ]
  },
  {
   "cell_type": "code",
   "execution_count": 160,
   "id": "83b708cd",
   "metadata": {},
   "outputs": [
    {
     "data": {
      "text/plain": [
       "<AxesSubplot:xlabel='state', ylabel='no2'>"
      ]
     },
     "execution_count": 160,
     "metadata": {},
     "output_type": "execute_result"
    },
    {
     "data": {
      "image/png": "[encoded data removed]",
      "text/plain": [
       "<Figure size 2160x720 with 1 Axes>"
      ]
     },
     "metadata": {
      "needs_background": "light"
     },
     "output_type": "display_data"
    }
   ],
   "source": [
    "plt.figure(figsize=(30, 10))\n",
    "plt.xticks(rotation=90)\n",
    "sns.barplot(x='state', y='no2',data=df)"
   ]
  },
  {
   "cell_type": "code",
   "execution_count": 161,
   "id": "f5bb9cd7",
   "metadata": {},
   "outputs": [
    {
     "data": {
      "image/png": "[encoded data removed]",
      "text/plain": [
       "<Figure size 720x576 with 2 Axes>"
      ]
     },
     "metadata": {
      "needs_background": "light"
     },
     "output_type": "display_data"
    }
   ],
   "source": [
    "# Correlation heatmap\n",
    "corr_matrix = df.corr()\n",
    "plt.figure(figsize=(10, 8))\n",
    "sns.heatmap(corr_matrix, annot=True, cmap='coolwarm', fmt=\".2f\")\n",
    "plt.title('Correlation Heatmap')\n",
    "plt.show()\n"
   ]
  },
  {
   "cell_type": "code",
   "execution_count": 162,
   "id": "624891ae",
   "metadata": {},
   "outputs": [
    {
     "data": {
      "text/plain": [
       "pm2_5                          426428\n",
       "spm                            237387\n",
       "agency                         149481\n",
       "stn_code                       144077\n",
       "rspm                            40222\n",
       "so2                             34646\n",
       "location_monitoring_station     27491\n",
       "no2                             16233\n",
       "type                             5393\n",
       "date                                7\n",
       "sampling_date                       3\n",
       "location                            3\n",
       "state                               0\n",
       "dtype: int64"
      ]
     },
     "execution_count": 162,
     "metadata": {},
     "output_type": "execute_result"
    }
   ],
   "source": [
    "df.isnull().sum().sort_values(ascending=False)"
   ]
  },
  {
   "cell_type": "code",
   "execution_count": 163,
   "id": "ff2008f0",
   "metadata": {},
   "outputs": [],
   "source": [
    "df.drop(['agency'],axis=1,inplace=True)\n",
    "df.drop(['stn_code'],axis=1,inplace=True)\n",
    "df.drop(['location_monitoring_station'],axis=1,inplace=True)\n",
    "df.drop(['sampling_date'],axis=1,inplace=True)\n"
   ]
  },
  {
   "cell_type": "code",
   "execution_count": 164,
   "id": "fc5c0cfa",
   "metadata": {},
   "outputs": [
    {
     "data": {
      "text/plain": [
       "state            0\n",
       "location         3\n",
       "type          5393\n",
       "so2          34646\n",
       "no2          16233\n",
       "rspm         40222\n",
       "spm         237387\n",
       "pm2_5       426428\n",
       "date             7\n",
       "dtype: int64"
      ]
     },
     "execution_count": 164,
     "metadata": {},
     "output_type": "execute_result"
    }
   ],
   "source": [
    "df.isnull().sum()"
   ]
  },
  {
   "cell_type": "code",
   "execution_count": 165,
   "id": "46b680c9",
   "metadata": {},
   "outputs": [
    {
     "data": {
      "text/plain": [
       "(435742, 9)"
      ]
     },
     "execution_count": 165,
     "metadata": {},
     "output_type": "execute_result"
    }
   ],
   "source": [
    "df.shape"
   ]
  },
  {
   "cell_type": "code",
   "execution_count": 166,
   "id": "247a7f84",
   "metadata": {},
   "outputs": [
    {
     "data": {
      "text/html": [
       "<div>\n",
       "<style scoped>\n",
       "    .dataframe tbody tr th:only-of-type {\n",
       "        vertical-align: middle;\n",
       "    }\n",
       "\n",
       "    .dataframe tbody tr th {\n",
       "        vertical-align: top;\n",
       "    }\n",
       "\n",
       "    .dataframe thead th {\n",
       "        text-align: right;\n",
       "    }\n",
       "</style>\n",
       "<table border=\"1\" class=\"dataframe\">\n",
       "  <thead>\n",
       "    <tr style=\"text-align: right;\">\n",
       "      <th></th>\n",
       "      <th>state</th>\n",
       "      <th>location</th>\n",
       "      <th>type</th>\n",
       "      <th>so2</th>\n",
       "      <th>no2</th>\n",
       "      <th>rspm</th>\n",
       "      <th>spm</th>\n",
       "      <th>pm2_5</th>\n",
       "      <th>date</th>\n",
       "    </tr>\n",
       "  </thead>\n",
       "  <tbody>\n",
       "    <tr>\n",
       "      <th>0</th>\n",
       "      <td>Andhra Pradesh</td>\n",
       "      <td>Hyderabad</td>\n",
       "      <td>Residential, Rural and other Areas</td>\n",
       "      <td>4.8</td>\n",
       "      <td>17.4</td>\n",
       "      <td>NaN</td>\n",
       "      <td>NaN</td>\n",
       "      <td>NaN</td>\n",
       "      <td>1990-02-01</td>\n",
       "    </tr>\n",
       "    <tr>\n",
       "      <th>1</th>\n",
       "      <td>Andhra Pradesh</td>\n",
       "      <td>Hyderabad</td>\n",
       "      <td>Industrial Area</td>\n",
       "      <td>3.1</td>\n",
       "      <td>7.0</td>\n",
       "      <td>NaN</td>\n",
       "      <td>NaN</td>\n",
       "      <td>NaN</td>\n",
       "      <td>1990-02-01</td>\n",
       "    </tr>\n",
       "    <tr>\n",
       "      <th>2</th>\n",
       "      <td>Andhra Pradesh</td>\n",
       "      <td>Hyderabad</td>\n",
       "      <td>Residential, Rural and other Areas</td>\n",
       "      <td>6.2</td>\n",
       "      <td>28.5</td>\n",
       "      <td>NaN</td>\n",
       "      <td>NaN</td>\n",
       "      <td>NaN</td>\n",
       "      <td>1990-02-01</td>\n",
       "    </tr>\n",
       "    <tr>\n",
       "      <th>3</th>\n",
       "      <td>Andhra Pradesh</td>\n",
       "      <td>Hyderabad</td>\n",
       "      <td>Residential, Rural and other Areas</td>\n",
       "      <td>6.3</td>\n",
       "      <td>14.7</td>\n",
       "      <td>NaN</td>\n",
       "      <td>NaN</td>\n",
       "      <td>NaN</td>\n",
       "      <td>1990-03-01</td>\n",
       "    </tr>\n",
       "    <tr>\n",
       "      <th>4</th>\n",
       "      <td>Andhra Pradesh</td>\n",
       "      <td>Hyderabad</td>\n",
       "      <td>Industrial Area</td>\n",
       "      <td>4.7</td>\n",
       "      <td>7.5</td>\n",
       "      <td>NaN</td>\n",
       "      <td>NaN</td>\n",
       "      <td>NaN</td>\n",
       "      <td>1990-03-01</td>\n",
       "    </tr>\n",
       "    <tr>\n",
       "      <th>...</th>\n",
       "      <td>...</td>\n",
       "      <td>...</td>\n",
       "      <td>...</td>\n",
       "      <td>...</td>\n",
       "      <td>...</td>\n",
       "      <td>...</td>\n",
       "      <td>...</td>\n",
       "      <td>...</td>\n",
       "      <td>...</td>\n",
       "    </tr>\n",
       "    <tr>\n",
       "      <th>435737</th>\n",
       "      <td>West Bengal</td>\n",
       "      <td>ULUBERIA</td>\n",
       "      <td>RIRUO</td>\n",
       "      <td>22.0</td>\n",
       "      <td>50.0</td>\n",
       "      <td>143.0</td>\n",
       "      <td>NaN</td>\n",
       "      <td>NaN</td>\n",
       "      <td>2015-12-24</td>\n",
       "    </tr>\n",
       "    <tr>\n",
       "      <th>435738</th>\n",
       "      <td>West Bengal</td>\n",
       "      <td>ULUBERIA</td>\n",
       "      <td>RIRUO</td>\n",
       "      <td>20.0</td>\n",
       "      <td>46.0</td>\n",
       "      <td>171.0</td>\n",
       "      <td>NaN</td>\n",
       "      <td>NaN</td>\n",
       "      <td>2015-12-29</td>\n",
       "    </tr>\n",
       "    <tr>\n",
       "      <th>435739</th>\n",
       "      <td>andaman-and-nicobar-islands</td>\n",
       "      <td>NaN</td>\n",
       "      <td>NaN</td>\n",
       "      <td>NaN</td>\n",
       "      <td>NaN</td>\n",
       "      <td>NaN</td>\n",
       "      <td>NaN</td>\n",
       "      <td>NaN</td>\n",
       "      <td>NaN</td>\n",
       "    </tr>\n",
       "    <tr>\n",
       "      <th>435740</th>\n",
       "      <td>Lakshadweep</td>\n",
       "      <td>NaN</td>\n",
       "      <td>NaN</td>\n",
       "      <td>NaN</td>\n",
       "      <td>NaN</td>\n",
       "      <td>NaN</td>\n",
       "      <td>NaN</td>\n",
       "      <td>NaN</td>\n",
       "      <td>NaN</td>\n",
       "    </tr>\n",
       "    <tr>\n",
       "      <th>435741</th>\n",
       "      <td>Tripura</td>\n",
       "      <td>NaN</td>\n",
       "      <td>NaN</td>\n",
       "      <td>NaN</td>\n",
       "      <td>NaN</td>\n",
       "      <td>NaN</td>\n",
       "      <td>NaN</td>\n",
       "      <td>NaN</td>\n",
       "      <td>NaN</td>\n",
       "    </tr>\n",
       "  </tbody>\n",
       "</table>\n",
       "<p>435742 rows × 9 columns</p>\n",
       "</div>"
      ],
      "text/plain": [
       "                              state   location  \\\n",
       "0                    Andhra Pradesh  Hyderabad   \n",
       "1                    Andhra Pradesh  Hyderabad   \n",
       "2                    Andhra Pradesh  Hyderabad   \n",
       "3                    Andhra Pradesh  Hyderabad   \n",
       "4                    Andhra Pradesh  Hyderabad   \n",
       "...                             ...        ...   \n",
       "435737                  West Bengal   ULUBERIA   \n",
       "435738                  West Bengal   ULUBERIA   \n",
       "435739  andaman-and-nicobar-islands        NaN   \n",
       "435740                  Lakshadweep        NaN   \n",
       "435741                      Tripura        NaN   \n",
       "\n",
       "                                      type   so2   no2   rspm  spm  pm2_5  \\\n",
       "0       Residential, Rural and other Areas   4.8  17.4    NaN  NaN    NaN   \n",
       "1                          Industrial Area   3.1   7.0    NaN  NaN    NaN   \n",
       "2       Residential, Rural and other Areas   6.2  28.5    NaN  NaN    NaN   \n",
       "3       Residential, Rural and other Areas   6.3  14.7    NaN  NaN    NaN   \n",
       "4                          Industrial Area   4.7   7.5    NaN  NaN    NaN   \n",
       "...                                    ...   ...   ...    ...  ...    ...   \n",
       "435737                               RIRUO  22.0  50.0  143.0  NaN    NaN   \n",
       "435738                               RIRUO  20.0  46.0  171.0  NaN    NaN   \n",
       "435739                                 NaN   NaN   NaN    NaN  NaN    NaN   \n",
       "435740                                 NaN   NaN   NaN    NaN  NaN    NaN   \n",
       "435741                                 NaN   NaN   NaN    NaN  NaN    NaN   \n",
       "\n",
       "              date  \n",
       "0       1990-02-01  \n",
       "1       1990-02-01  \n",
       "2       1990-02-01  \n",
       "3       1990-03-01  \n",
       "4       1990-03-01  \n",
       "...            ...  \n",
       "435737  2015-12-24  \n",
       "435738  2015-12-29  \n",
       "435739         NaN  \n",
       "435740         NaN  \n",
       "435741         NaN  \n",
       "\n",
       "[435742 rows x 9 columns]"
      ]
     },
     "execution_count": 166,
     "metadata": {},
     "output_type": "execute_result"
    }
   ],
   "source": [
    "df"
   ]
  },
  {
   "cell_type": "markdown",
   "id": "b67dfb4b",
   "metadata": {},
   "source": [
    "### Imputing categorical null values with mode"
   ]
  },
  {
   "cell_type": "code",
   "execution_count": 167,
   "id": "c1fa55c1",
   "metadata": {},
   "outputs": [],
   "source": [
    "df['location']=df['location'].fillna(df['location'].mode()[0])\n",
    "df['type']=df['type'].fillna(df['type'].mode()[0])"
   ]
  },
  {
   "cell_type": "markdown",
   "id": "3caa12f0",
   "metadata": {},
   "source": [
    "### Imputing numerical null values with zero"
   ]
  },
  {
   "cell_type": "code",
   "execution_count": 168,
   "id": "c55c498c",
   "metadata": {},
   "outputs": [],
   "source": [
    "df.fillna(0,inplace=True)"
   ]
  },
  {
   "cell_type": "code",
   "execution_count": 169,
   "id": "43b2f4aa",
   "metadata": {},
   "outputs": [],
   "source": [
    "df.dropna(subset=['date'], inplace=True)"
   ]
  },
  {
   "cell_type": "code",
   "execution_count": 170,
   "id": "b067373c",
   "metadata": {},
   "outputs": [
    {
     "data": {
      "text/plain": [
       "state       0\n",
       "location    0\n",
       "type        0\n",
       "so2         0\n",
       "no2         0\n",
       "rspm        0\n",
       "spm         0\n",
       "pm2_5       0\n",
       "date        0\n",
       "dtype: int64"
      ]
     },
     "execution_count": 170,
     "metadata": {},
     "output_type": "execute_result"
    }
   ],
   "source": [
    "df.isnull().sum()"
   ]
  },
  {
   "cell_type": "code",
   "execution_count": 171,
   "id": "05e4ab82",
   "metadata": {},
   "outputs": [
    {
     "data": {
      "text/html": [
       "<div>\n",
       "<style scoped>\n",
       "    .dataframe tbody tr th:only-of-type {\n",
       "        vertical-align: middle;\n",
       "    }\n",
       "\n",
       "    .dataframe tbody tr th {\n",
       "        vertical-align: top;\n",
       "    }\n",
       "\n",
       "    .dataframe thead th {\n",
       "        text-align: right;\n",
       "    }\n",
       "</style>\n",
       "<table border=\"1\" class=\"dataframe\">\n",
       "  <thead>\n",
       "    <tr style=\"text-align: right;\">\n",
       "      <th></th>\n",
       "      <th>state</th>\n",
       "      <th>location</th>\n",
       "      <th>type</th>\n",
       "      <th>so2</th>\n",
       "      <th>no2</th>\n",
       "      <th>rspm</th>\n",
       "      <th>spm</th>\n",
       "      <th>pm2_5</th>\n",
       "      <th>date</th>\n",
       "    </tr>\n",
       "  </thead>\n",
       "  <tbody>\n",
       "    <tr>\n",
       "      <th>0</th>\n",
       "      <td>Andhra Pradesh</td>\n",
       "      <td>Hyderabad</td>\n",
       "      <td>Residential, Rural and other Areas</td>\n",
       "      <td>4.8</td>\n",
       "      <td>17.4</td>\n",
       "      <td>0.0</td>\n",
       "      <td>0.0</td>\n",
       "      <td>0.0</td>\n",
       "      <td>1990-02-01</td>\n",
       "    </tr>\n",
       "    <tr>\n",
       "      <th>1</th>\n",
       "      <td>Andhra Pradesh</td>\n",
       "      <td>Hyderabad</td>\n",
       "      <td>Industrial Area</td>\n",
       "      <td>3.1</td>\n",
       "      <td>7.0</td>\n",
       "      <td>0.0</td>\n",
       "      <td>0.0</td>\n",
       "      <td>0.0</td>\n",
       "      <td>1990-02-01</td>\n",
       "    </tr>\n",
       "    <tr>\n",
       "      <th>2</th>\n",
       "      <td>Andhra Pradesh</td>\n",
       "      <td>Hyderabad</td>\n",
       "      <td>Residential, Rural and other Areas</td>\n",
       "      <td>6.2</td>\n",
       "      <td>28.5</td>\n",
       "      <td>0.0</td>\n",
       "      <td>0.0</td>\n",
       "      <td>0.0</td>\n",
       "      <td>1990-02-01</td>\n",
       "    </tr>\n",
       "    <tr>\n",
       "      <th>3</th>\n",
       "      <td>Andhra Pradesh</td>\n",
       "      <td>Hyderabad</td>\n",
       "      <td>Residential, Rural and other Areas</td>\n",
       "      <td>6.3</td>\n",
       "      <td>14.7</td>\n",
       "      <td>0.0</td>\n",
       "      <td>0.0</td>\n",
       "      <td>0.0</td>\n",
       "      <td>1990-03-01</td>\n",
       "    </tr>\n",
       "    <tr>\n",
       "      <th>4</th>\n",
       "      <td>Andhra Pradesh</td>\n",
       "      <td>Hyderabad</td>\n",
       "      <td>Industrial Area</td>\n",
       "      <td>4.7</td>\n",
       "      <td>7.5</td>\n",
       "      <td>0.0</td>\n",
       "      <td>0.0</td>\n",
       "      <td>0.0</td>\n",
       "      <td>1990-03-01</td>\n",
       "    </tr>\n",
       "    <tr>\n",
       "      <th>...</th>\n",
       "      <td>...</td>\n",
       "      <td>...</td>\n",
       "      <td>...</td>\n",
       "      <td>...</td>\n",
       "      <td>...</td>\n",
       "      <td>...</td>\n",
       "      <td>...</td>\n",
       "      <td>...</td>\n",
       "      <td>...</td>\n",
       "    </tr>\n",
       "    <tr>\n",
       "      <th>435737</th>\n",
       "      <td>West Bengal</td>\n",
       "      <td>ULUBERIA</td>\n",
       "      <td>RIRUO</td>\n",
       "      <td>22.0</td>\n",
       "      <td>50.0</td>\n",
       "      <td>143.0</td>\n",
       "      <td>0.0</td>\n",
       "      <td>0.0</td>\n",
       "      <td>2015-12-24</td>\n",
       "    </tr>\n",
       "    <tr>\n",
       "      <th>435738</th>\n",
       "      <td>West Bengal</td>\n",
       "      <td>ULUBERIA</td>\n",
       "      <td>RIRUO</td>\n",
       "      <td>20.0</td>\n",
       "      <td>46.0</td>\n",
       "      <td>171.0</td>\n",
       "      <td>0.0</td>\n",
       "      <td>0.0</td>\n",
       "      <td>2015-12-29</td>\n",
       "    </tr>\n",
       "    <tr>\n",
       "      <th>435739</th>\n",
       "      <td>andaman-and-nicobar-islands</td>\n",
       "      <td>Guwahati</td>\n",
       "      <td>Residential, Rural and other Areas</td>\n",
       "      <td>0.0</td>\n",
       "      <td>0.0</td>\n",
       "      <td>0.0</td>\n",
       "      <td>0.0</td>\n",
       "      <td>0.0</td>\n",
       "      <td>0</td>\n",
       "    </tr>\n",
       "    <tr>\n",
       "      <th>435740</th>\n",
       "      <td>Lakshadweep</td>\n",
       "      <td>Guwahati</td>\n",
       "      <td>Residential, Rural and other Areas</td>\n",
       "      <td>0.0</td>\n",
       "      <td>0.0</td>\n",
       "      <td>0.0</td>\n",
       "      <td>0.0</td>\n",
       "      <td>0.0</td>\n",
       "      <td>0</td>\n",
       "    </tr>\n",
       "    <tr>\n",
       "      <th>435741</th>\n",
       "      <td>Tripura</td>\n",
       "      <td>Guwahati</td>\n",
       "      <td>Residential, Rural and other Areas</td>\n",
       "      <td>0.0</td>\n",
       "      <td>0.0</td>\n",
       "      <td>0.0</td>\n",
       "      <td>0.0</td>\n",
       "      <td>0.0</td>\n",
       "      <td>0</td>\n",
       "    </tr>\n",
       "  </tbody>\n",
       "</table>\n",
       "<p>435742 rows × 9 columns</p>\n",
       "</div>"
      ],
      "text/plain": [
       "                              state   location  \\\n",
       "0                    Andhra Pradesh  Hyderabad   \n",
       "1                    Andhra Pradesh  Hyderabad   \n",
       "2                    Andhra Pradesh  Hyderabad   \n",
       "3                    Andhra Pradesh  Hyderabad   \n",
       "4                    Andhra Pradesh  Hyderabad   \n",
       "...                             ...        ...   \n",
       "435737                  West Bengal   ULUBERIA   \n",
       "435738                  West Bengal   ULUBERIA   \n",
       "435739  andaman-and-nicobar-islands   Guwahati   \n",
       "435740                  Lakshadweep   Guwahati   \n",
       "435741                      Tripura   Guwahati   \n",
       "\n",
       "                                      type   so2   no2   rspm  spm  pm2_5  \\\n",
       "0       Residential, Rural and other Areas   4.8  17.4    0.0  0.0    0.0   \n",
       "1                          Industrial Area   3.1   7.0    0.0  0.0    0.0   \n",
       "2       Residential, Rural and other Areas   6.2  28.5    0.0  0.0    0.0   \n",
       "3       Residential, Rural and other Areas   6.3  14.7    0.0  0.0    0.0   \n",
       "4                          Industrial Area   4.7   7.5    0.0  0.0    0.0   \n",
       "...                                    ...   ...   ...    ...  ...    ...   \n",
       "435737                               RIRUO  22.0  50.0  143.0  0.0    0.0   \n",
       "435738                               RIRUO  20.0  46.0  171.0  0.0    0.0   \n",
       "435739  Residential, Rural and other Areas   0.0   0.0    0.0  0.0    0.0   \n",
       "435740  Residential, Rural and other Areas   0.0   0.0    0.0  0.0    0.0   \n",
       "435741  Residential, Rural and other Areas   0.0   0.0    0.0  0.0    0.0   \n",
       "\n",
       "              date  \n",
       "0       1990-02-01  \n",
       "1       1990-02-01  \n",
       "2       1990-02-01  \n",
       "3       1990-03-01  \n",
       "4       1990-03-01  \n",
       "...            ...  \n",
       "435737  2015-12-24  \n",
       "435738  2015-12-29  \n",
       "435739           0  \n",
       "435740           0  \n",
       "435741           0  \n",
       "\n",
       "[435742 rows x 9 columns]"
      ]
     },
     "execution_count": 171,
     "metadata": {},
     "output_type": "execute_result"
    }
   ],
   "source": [
    "df"
   ]
  },
  {
   "cell_type": "markdown",
   "id": "995c696f",
   "metadata": {},
   "source": [
    "## Data Transformation"
   ]
  },
  {
   "cell_type": "markdown",
   "id": "5f294580",
   "metadata": {},
   "source": [
    "Calculating so2 pollutant"
   ]
  },
  {
   "cell_type": "code",
   "execution_count": 172,
   "id": "bd55ac10",
   "metadata": {},
   "outputs": [
    {
     "data": {
      "text/html": [
       "<div>\n",
       "<style scoped>\n",
       "    .dataframe tbody tr th:only-of-type {\n",
       "        vertical-align: middle;\n",
       "    }\n",
       "\n",
       "    .dataframe tbody tr th {\n",
       "        vertical-align: top;\n",
       "    }\n",
       "\n",
       "    .dataframe thead th {\n",
       "        text-align: right;\n",
       "    }\n",
       "</style>\n",
       "<table border=\"1\" class=\"dataframe\">\n",
       "  <thead>\n",
       "    <tr style=\"text-align: right;\">\n",
       "      <th></th>\n",
       "      <th>so2</th>\n",
       "      <th>SOi</th>\n",
       "    </tr>\n",
       "  </thead>\n",
       "  <tbody>\n",
       "    <tr>\n",
       "      <th>0</th>\n",
       "      <td>4.8</td>\n",
       "      <td>6.000</td>\n",
       "    </tr>\n",
       "    <tr>\n",
       "      <th>1</th>\n",
       "      <td>3.1</td>\n",
       "      <td>3.875</td>\n",
       "    </tr>\n",
       "    <tr>\n",
       "      <th>2</th>\n",
       "      <td>6.2</td>\n",
       "      <td>7.750</td>\n",
       "    </tr>\n",
       "    <tr>\n",
       "      <th>3</th>\n",
       "      <td>6.3</td>\n",
       "      <td>7.875</td>\n",
       "    </tr>\n",
       "    <tr>\n",
       "      <th>4</th>\n",
       "      <td>4.7</td>\n",
       "      <td>5.875</td>\n",
       "    </tr>\n",
       "  </tbody>\n",
       "</table>\n",
       "</div>"
      ],
      "text/plain": [
       "   so2    SOi\n",
       "0  4.8  6.000\n",
       "1  3.1  3.875\n",
       "2  6.2  7.750\n",
       "3  6.3  7.875\n",
       "4  4.7  5.875"
      ]
     },
     "execution_count": 172,
     "metadata": {},
     "output_type": "execute_result"
    }
   ],
   "source": [
    "def calculate_SOi(so2):\n",
    "    si=0\n",
    "    if (so2<=40):\n",
    "        si= so2*(50/40)\n",
    "    elif (so2>40 and so2<=80):\n",
    "        si= 50+(so2-40)*(50/40)\n",
    "    elif (so2>80 and so2<=380):\n",
    "        si= 100+(so2-80)*(100/300)\n",
    "    elif (so2>380 and so2<=800):\n",
    "        si= 200+(so2-380)*(100/420)\n",
    "    elif (so2>800 and so2<=1600):\n",
    "        si= 300+(so2-800)*(100/800)\n",
    "    elif (so2>1600):\n",
    "        si= 400+(so2-1600)*(100/800)\n",
    "    return si\n",
    "df['SOi']= df['so2'].apply(calculate_SOi)\n",
    "data=df[['so2','SOi']]\n",
    "data.head(5)"
   ]
  },
  {
   "cell_type": "markdown",
   "id": "64f0c2fd",
   "metadata": {},
   "source": [
    "Calculating no2 pollutant"
   ]
  },
  {
   "cell_type": "code",
   "execution_count": 173,
   "id": "a0398e3b",
   "metadata": {},
   "outputs": [
    {
     "data": {
      "text/html": [
       "<div>\n",
       "<style scoped>\n",
       "    .dataframe tbody tr th:only-of-type {\n",
       "        vertical-align: middle;\n",
       "    }\n",
       "\n",
       "    .dataframe tbody tr th {\n",
       "        vertical-align: top;\n",
       "    }\n",
       "\n",
       "    .dataframe thead th {\n",
       "        text-align: right;\n",
       "    }\n",
       "</style>\n",
       "<table border=\"1\" class=\"dataframe\">\n",
       "  <thead>\n",
       "    <tr style=\"text-align: right;\">\n",
       "      <th></th>\n",
       "      <th>no2</th>\n",
       "      <th>NOi</th>\n",
       "    </tr>\n",
       "  </thead>\n",
       "  <tbody>\n",
       "    <tr>\n",
       "      <th>0</th>\n",
       "      <td>17.4</td>\n",
       "      <td>21.750</td>\n",
       "    </tr>\n",
       "    <tr>\n",
       "      <th>1</th>\n",
       "      <td>7.0</td>\n",
       "      <td>8.750</td>\n",
       "    </tr>\n",
       "    <tr>\n",
       "      <th>2</th>\n",
       "      <td>28.5</td>\n",
       "      <td>35.625</td>\n",
       "    </tr>\n",
       "    <tr>\n",
       "      <th>3</th>\n",
       "      <td>14.7</td>\n",
       "      <td>18.375</td>\n",
       "    </tr>\n",
       "    <tr>\n",
       "      <th>4</th>\n",
       "      <td>7.5</td>\n",
       "      <td>9.375</td>\n",
       "    </tr>\n",
       "  </tbody>\n",
       "</table>\n",
       "</div>"
      ],
      "text/plain": [
       "    no2     NOi\n",
       "0  17.4  21.750\n",
       "1   7.0   8.750\n",
       "2  28.5  35.625\n",
       "3  14.7  18.375\n",
       "4   7.5   9.375"
      ]
     },
     "execution_count": 173,
     "metadata": {},
     "output_type": "execute_result"
    }
   ],
   "source": [
    "def calculate_NOi(no2):\n",
    "    ni=0\n",
    "    if (no2<=40):\n",
    "        ni= no2*(50/40)\n",
    "    elif (no2>40 and no2<=80):\n",
    "        ni= 50+(no2-40)*(50/40)\n",
    "    elif (no2>80 and no2<=180):\n",
    "        ni= 100+(no2-80)*(100/100)\n",
    "    elif (no2>180 and no2<=280):\n",
    "        ni= 200+(no2-180)*(100/100)\n",
    "    elif (no2>280 and no2<=400):\n",
    "        ni= 300+(no2-280)*(100/120)\n",
    "    else:\n",
    "        ni= 400+(no2-400)*(100/120)\n",
    "    return ni\n",
    "df['NOi']= df['no2'].apply(calculate_NOi)\n",
    "data=df[['no2','NOi']]\n",
    "data.head(5)"
   ]
  },
  {
   "cell_type": "markdown",
   "id": "16f9390b",
   "metadata": {},
   "source": [
    "Calculating rspm pollutant"
   ]
  },
  {
   "cell_type": "code",
   "execution_count": 174,
   "id": "b381fc0a",
   "metadata": {},
   "outputs": [
    {
     "data": {
      "text/html": [
       "<div>\n",
       "<style scoped>\n",
       "    .dataframe tbody tr th:only-of-type {\n",
       "        vertical-align: middle;\n",
       "    }\n",
       "\n",
       "    .dataframe tbody tr th {\n",
       "        vertical-align: top;\n",
       "    }\n",
       "\n",
       "    .dataframe thead th {\n",
       "        text-align: right;\n",
       "    }\n",
       "</style>\n",
       "<table border=\"1\" class=\"dataframe\">\n",
       "  <thead>\n",
       "    <tr style=\"text-align: right;\">\n",
       "      <th></th>\n",
       "      <th>rspm</th>\n",
       "      <th>RSPMi</th>\n",
       "    </tr>\n",
       "  </thead>\n",
       "  <tbody>\n",
       "    <tr>\n",
       "      <th>0</th>\n",
       "      <td>0.0</td>\n",
       "      <td>0.0</td>\n",
       "    </tr>\n",
       "    <tr>\n",
       "      <th>1</th>\n",
       "      <td>0.0</td>\n",
       "      <td>0.0</td>\n",
       "    </tr>\n",
       "    <tr>\n",
       "      <th>2</th>\n",
       "      <td>0.0</td>\n",
       "      <td>0.0</td>\n",
       "    </tr>\n",
       "    <tr>\n",
       "      <th>3</th>\n",
       "      <td>0.0</td>\n",
       "      <td>0.0</td>\n",
       "    </tr>\n",
       "    <tr>\n",
       "      <th>4</th>\n",
       "      <td>0.0</td>\n",
       "      <td>0.0</td>\n",
       "    </tr>\n",
       "  </tbody>\n",
       "</table>\n",
       "</div>"
      ],
      "text/plain": [
       "   rspm  RSPMi\n",
       "0   0.0    0.0\n",
       "1   0.0    0.0\n",
       "2   0.0    0.0\n",
       "3   0.0    0.0\n",
       "4   0.0    0.0"
      ]
     },
     "execution_count": 174,
     "metadata": {},
     "output_type": "execute_result"
    }
   ],
   "source": [
    "def calculate_RSPMi(rspm):\n",
    "    rspmi=0\n",
    "    if (rspm<=30):\n",
    "        rspmi= rspm*50/30\n",
    "    elif (rspmi>30 and rspmi<=60):\n",
    "        rspmi= 50+(rspmi-30)*50/30\n",
    "    elif (rspmi>60 and rspm<=90):\n",
    "        rspmi= 100+(rspm-60)*100/30\n",
    "    elif (rspmi>90 and rspmi<=120):\n",
    "        rspmi= 200+(rspmi-90)*100/30\n",
    "    elif (rspmi>1200 and rspmi<=250):\n",
    "        rspmi= 300+(rspmi-120)*(100/130)\n",
    "    else:\n",
    "        rspmi= 400+(rspmi-250)*(100/130)\n",
    "    return rspmi\n",
    "df['RSPMi']= df['rspm'].apply(calculate_RSPMi)\n",
    "data=df[['rspm','RSPMi']]\n",
    "data.head(5)"
   ]
  },
  {
   "cell_type": "markdown",
   "id": "e0681f3e",
   "metadata": {},
   "source": [
    "Calculating spm pollutant"
   ]
  },
  {
   "cell_type": "code",
   "execution_count": 175,
   "id": "d6f8fdc0",
   "metadata": {},
   "outputs": [
    {
     "data": {
      "text/html": [
       "<div>\n",
       "<style scoped>\n",
       "    .dataframe tbody tr th:only-of-type {\n",
       "        vertical-align: middle;\n",
       "    }\n",
       "\n",
       "    .dataframe tbody tr th {\n",
       "        vertical-align: top;\n",
       "    }\n",
       "\n",
       "    .dataframe thead th {\n",
       "        text-align: right;\n",
       "    }\n",
       "</style>\n",
       "<table border=\"1\" class=\"dataframe\">\n",
       "  <thead>\n",
       "    <tr style=\"text-align: right;\">\n",
       "      <th></th>\n",
       "      <th>spm</th>\n",
       "      <th>SPMi</th>\n",
       "    </tr>\n",
       "  </thead>\n",
       "  <tbody>\n",
       "    <tr>\n",
       "      <th>0</th>\n",
       "      <td>0.0</td>\n",
       "      <td>0.0</td>\n",
       "    </tr>\n",
       "    <tr>\n",
       "      <th>1</th>\n",
       "      <td>0.0</td>\n",
       "      <td>0.0</td>\n",
       "    </tr>\n",
       "    <tr>\n",
       "      <th>2</th>\n",
       "      <td>0.0</td>\n",
       "      <td>0.0</td>\n",
       "    </tr>\n",
       "    <tr>\n",
       "      <th>3</th>\n",
       "      <td>0.0</td>\n",
       "      <td>0.0</td>\n",
       "    </tr>\n",
       "    <tr>\n",
       "      <th>4</th>\n",
       "      <td>0.0</td>\n",
       "      <td>0.0</td>\n",
       "    </tr>\n",
       "  </tbody>\n",
       "</table>\n",
       "</div>"
      ],
      "text/plain": [
       "   spm  SPMi\n",
       "0  0.0   0.0\n",
       "1  0.0   0.0\n",
       "2  0.0   0.0\n",
       "3  0.0   0.0\n",
       "4  0.0   0.0"
      ]
     },
     "execution_count": 175,
     "metadata": {},
     "output_type": "execute_result"
    }
   ],
   "source": [
    "def calculate_SPMi(spm):\n",
    "    spmi=0\n",
    "    if (spm<=50):\n",
    "        spmi= spm*(50/50)\n",
    "    elif (spm>50 and spm<=100):\n",
    "        spmi= 50+(spm-50)*(50/50)\n",
    "    elif (spm>100 and spm<=250):\n",
    "        spmi= 100+(spm-100)*(100/150)\n",
    "    elif (spm>250 and spm<=350):\n",
    "        spmi= 200+(spm-250)*(100/100)\n",
    "    elif (spm>350 and spm<=430):\n",
    "        spmi= 300+(spm-350)*(100/80)\n",
    "    else:\n",
    "        spmi= 400+(spm-430)*(100/430)\n",
    "    return spmi\n",
    "df['SPMi']= df['spm'].apply(calculate_SPMi)\n",
    "data=df[['spm','SPMi']]\n",
    "data.head(5)"
   ]
  },
  {
   "cell_type": "markdown",
   "id": "fc2d40ef",
   "metadata": {},
   "source": [
    "### Calculating AQI "
   ]
  },
  {
   "cell_type": "code",
   "execution_count": 176,
   "id": "da759c7b",
   "metadata": {},
   "outputs": [
    {
     "data": {
      "text/html": [
       "<div>\n",
       "<style scoped>\n",
       "    .dataframe tbody tr th:only-of-type {\n",
       "        vertical-align: middle;\n",
       "    }\n",
       "\n",
       "    .dataframe tbody tr th {\n",
       "        vertical-align: top;\n",
       "    }\n",
       "\n",
       "    .dataframe thead th {\n",
       "        text-align: right;\n",
       "    }\n",
       "</style>\n",
       "<table border=\"1\" class=\"dataframe\">\n",
       "  <thead>\n",
       "    <tr style=\"text-align: right;\">\n",
       "      <th></th>\n",
       "      <th>date</th>\n",
       "      <th>state</th>\n",
       "      <th>location</th>\n",
       "      <th>type</th>\n",
       "      <th>SOi</th>\n",
       "      <th>NOi</th>\n",
       "      <th>RSPMi</th>\n",
       "      <th>SPMi</th>\n",
       "      <th>AQI</th>\n",
       "    </tr>\n",
       "  </thead>\n",
       "  <tbody>\n",
       "    <tr>\n",
       "      <th>0</th>\n",
       "      <td>1990-02-01</td>\n",
       "      <td>Andhra Pradesh</td>\n",
       "      <td>Hyderabad</td>\n",
       "      <td>Residential, Rural and other Areas</td>\n",
       "      <td>6.000</td>\n",
       "      <td>21.750</td>\n",
       "      <td>0.0</td>\n",
       "      <td>0.0</td>\n",
       "      <td>21.750</td>\n",
       "    </tr>\n",
       "    <tr>\n",
       "      <th>1</th>\n",
       "      <td>1990-02-01</td>\n",
       "      <td>Andhra Pradesh</td>\n",
       "      <td>Hyderabad</td>\n",
       "      <td>Industrial Area</td>\n",
       "      <td>3.875</td>\n",
       "      <td>8.750</td>\n",
       "      <td>0.0</td>\n",
       "      <td>0.0</td>\n",
       "      <td>8.750</td>\n",
       "    </tr>\n",
       "    <tr>\n",
       "      <th>2</th>\n",
       "      <td>1990-02-01</td>\n",
       "      <td>Andhra Pradesh</td>\n",
       "      <td>Hyderabad</td>\n",
       "      <td>Residential, Rural and other Areas</td>\n",
       "      <td>7.750</td>\n",
       "      <td>35.625</td>\n",
       "      <td>0.0</td>\n",
       "      <td>0.0</td>\n",
       "      <td>35.625</td>\n",
       "    </tr>\n",
       "    <tr>\n",
       "      <th>3</th>\n",
       "      <td>1990-03-01</td>\n",
       "      <td>Andhra Pradesh</td>\n",
       "      <td>Hyderabad</td>\n",
       "      <td>Residential, Rural and other Areas</td>\n",
       "      <td>7.875</td>\n",
       "      <td>18.375</td>\n",
       "      <td>0.0</td>\n",
       "      <td>0.0</td>\n",
       "      <td>18.375</td>\n",
       "    </tr>\n",
       "    <tr>\n",
       "      <th>4</th>\n",
       "      <td>1990-03-01</td>\n",
       "      <td>Andhra Pradesh</td>\n",
       "      <td>Hyderabad</td>\n",
       "      <td>Industrial Area</td>\n",
       "      <td>5.875</td>\n",
       "      <td>9.375</td>\n",
       "      <td>0.0</td>\n",
       "      <td>0.0</td>\n",
       "      <td>9.375</td>\n",
       "    </tr>\n",
       "  </tbody>\n",
       "</table>\n",
       "</div>"
      ],
      "text/plain": [
       "         date           state   location                                type  \\\n",
       "0  1990-02-01  Andhra Pradesh  Hyderabad  Residential, Rural and other Areas   \n",
       "1  1990-02-01  Andhra Pradesh  Hyderabad                     Industrial Area   \n",
       "2  1990-02-01  Andhra Pradesh  Hyderabad  Residential, Rural and other Areas   \n",
       "3  1990-03-01  Andhra Pradesh  Hyderabad  Residential, Rural and other Areas   \n",
       "4  1990-03-01  Andhra Pradesh  Hyderabad                     Industrial Area   \n",
       "\n",
       "     SOi     NOi  RSPMi  SPMi     AQI  \n",
       "0  6.000  21.750    0.0   0.0  21.750  \n",
       "1  3.875   8.750    0.0   0.0   8.750  \n",
       "2  7.750  35.625    0.0   0.0  35.625  \n",
       "3  7.875  18.375    0.0   0.0  18.375  \n",
       "4  5.875   9.375    0.0   0.0   9.375  "
      ]
     },
     "execution_count": 176,
     "metadata": {},
     "output_type": "execute_result"
    }
   ],
   "source": [
    "def calculate_AQI(si,ni,rspmi,spmi):\n",
    "    aqi=0\n",
    "    if (si>ni and si>rspmi and si>spmi):\n",
    "        aqi=si\n",
    "    if (ni>si and ni>rspmi and ni>spmi):\n",
    "        aqi=ni\n",
    "    if (rspmi>ni and rspmi>si and rspmi>spmi):\n",
    "        aqi=rspmi\n",
    "    if (spmi>ni and spmi>si and spmi>rspmi):\n",
    "        aqi=spmi\n",
    "    return aqi\n",
    "df['AQI']=df.apply(lambda x:calculate_AQI(x['SOi'],x['NOi'],x['RSPMi'],x['SPMi']),axis=1)\n",
    "data=df[['date','state','location','type','SOi','NOi','RSPMi','SPMi','AQI']]\n",
    "data.head(5)"
   ]
  },
  {
   "cell_type": "markdown",
   "id": "4b10fe22",
   "metadata": {},
   "source": [
    "### Calculating AQI_Range"
   ]
  },
  {
   "cell_type": "code",
   "execution_count": 177,
   "id": "1e8b4060",
   "metadata": {},
   "outputs": [
    {
     "data": {
      "text/html": [
       "<div>\n",
       "<style scoped>\n",
       "    .dataframe tbody tr th:only-of-type {\n",
       "        vertical-align: middle;\n",
       "    }\n",
       "\n",
       "    .dataframe tbody tr th {\n",
       "        vertical-align: top;\n",
       "    }\n",
       "\n",
       "    .dataframe thead th {\n",
       "        text-align: right;\n",
       "    }\n",
       "</style>\n",
       "<table border=\"1\" class=\"dataframe\">\n",
       "  <thead>\n",
       "    <tr style=\"text-align: right;\">\n",
       "      <th></th>\n",
       "      <th>state</th>\n",
       "      <th>location</th>\n",
       "      <th>type</th>\n",
       "      <th>so2</th>\n",
       "      <th>no2</th>\n",
       "      <th>rspm</th>\n",
       "      <th>spm</th>\n",
       "      <th>pm2_5</th>\n",
       "      <th>date</th>\n",
       "      <th>SOi</th>\n",
       "      <th>NOi</th>\n",
       "      <th>RSPMi</th>\n",
       "      <th>SPMi</th>\n",
       "      <th>AQI</th>\n",
       "      <th>AQI_Range</th>\n",
       "    </tr>\n",
       "  </thead>\n",
       "  <tbody>\n",
       "    <tr>\n",
       "      <th>0</th>\n",
       "      <td>Andhra Pradesh</td>\n",
       "      <td>Hyderabad</td>\n",
       "      <td>Residential, Rural and other Areas</td>\n",
       "      <td>4.8</td>\n",
       "      <td>17.4</td>\n",
       "      <td>0.0</td>\n",
       "      <td>0.0</td>\n",
       "      <td>0.0</td>\n",
       "      <td>1990-02-01</td>\n",
       "      <td>6.000</td>\n",
       "      <td>21.750</td>\n",
       "      <td>0.0</td>\n",
       "      <td>0.0</td>\n",
       "      <td>21.750</td>\n",
       "      <td>Good</td>\n",
       "    </tr>\n",
       "    <tr>\n",
       "      <th>1</th>\n",
       "      <td>Andhra Pradesh</td>\n",
       "      <td>Hyderabad</td>\n",
       "      <td>Industrial Area</td>\n",
       "      <td>3.1</td>\n",
       "      <td>7.0</td>\n",
       "      <td>0.0</td>\n",
       "      <td>0.0</td>\n",
       "      <td>0.0</td>\n",
       "      <td>1990-02-01</td>\n",
       "      <td>3.875</td>\n",
       "      <td>8.750</td>\n",
       "      <td>0.0</td>\n",
       "      <td>0.0</td>\n",
       "      <td>8.750</td>\n",
       "      <td>Good</td>\n",
       "    </tr>\n",
       "    <tr>\n",
       "      <th>2</th>\n",
       "      <td>Andhra Pradesh</td>\n",
       "      <td>Hyderabad</td>\n",
       "      <td>Residential, Rural and other Areas</td>\n",
       "      <td>6.2</td>\n",
       "      <td>28.5</td>\n",
       "      <td>0.0</td>\n",
       "      <td>0.0</td>\n",
       "      <td>0.0</td>\n",
       "      <td>1990-02-01</td>\n",
       "      <td>7.750</td>\n",
       "      <td>35.625</td>\n",
       "      <td>0.0</td>\n",
       "      <td>0.0</td>\n",
       "      <td>35.625</td>\n",
       "      <td>Good</td>\n",
       "    </tr>\n",
       "    <tr>\n",
       "      <th>3</th>\n",
       "      <td>Andhra Pradesh</td>\n",
       "      <td>Hyderabad</td>\n",
       "      <td>Residential, Rural and other Areas</td>\n",
       "      <td>6.3</td>\n",
       "      <td>14.7</td>\n",
       "      <td>0.0</td>\n",
       "      <td>0.0</td>\n",
       "      <td>0.0</td>\n",
       "      <td>1990-03-01</td>\n",
       "      <td>7.875</td>\n",
       "      <td>18.375</td>\n",
       "      <td>0.0</td>\n",
       "      <td>0.0</td>\n",
       "      <td>18.375</td>\n",
       "      <td>Good</td>\n",
       "    </tr>\n",
       "    <tr>\n",
       "      <th>4</th>\n",
       "      <td>Andhra Pradesh</td>\n",
       "      <td>Hyderabad</td>\n",
       "      <td>Industrial Area</td>\n",
       "      <td>4.7</td>\n",
       "      <td>7.5</td>\n",
       "      <td>0.0</td>\n",
       "      <td>0.0</td>\n",
       "      <td>0.0</td>\n",
       "      <td>1990-03-01</td>\n",
       "      <td>5.875</td>\n",
       "      <td>9.375</td>\n",
       "      <td>0.0</td>\n",
       "      <td>0.0</td>\n",
       "      <td>9.375</td>\n",
       "      <td>Good</td>\n",
       "    </tr>\n",
       "  </tbody>\n",
       "</table>\n",
       "</div>"
      ],
      "text/plain": [
       "            state   location                                type  so2   no2  \\\n",
       "0  Andhra Pradesh  Hyderabad  Residential, Rural and other Areas  4.8  17.4   \n",
       "1  Andhra Pradesh  Hyderabad                     Industrial Area  3.1   7.0   \n",
       "2  Andhra Pradesh  Hyderabad  Residential, Rural and other Areas  6.2  28.5   \n",
       "3  Andhra Pradesh  Hyderabad  Residential, Rural and other Areas  6.3  14.7   \n",
       "4  Andhra Pradesh  Hyderabad                     Industrial Area  4.7   7.5   \n",
       "\n",
       "   rspm  spm  pm2_5        date    SOi     NOi  RSPMi  SPMi     AQI AQI_Range  \n",
       "0   0.0  0.0    0.0  1990-02-01  6.000  21.750    0.0   0.0  21.750      Good  \n",
       "1   0.0  0.0    0.0  1990-02-01  3.875   8.750    0.0   0.0   8.750      Good  \n",
       "2   0.0  0.0    0.0  1990-02-01  7.750  35.625    0.0   0.0  35.625      Good  \n",
       "3   0.0  0.0    0.0  1990-03-01  7.875  18.375    0.0   0.0  18.375      Good  \n",
       "4   0.0  0.0    0.0  1990-03-01  5.875   9.375    0.0   0.0   9.375      Good  "
      ]
     },
     "execution_count": 177,
     "metadata": {},
     "output_type": "execute_result"
    }
   ],
   "source": [
    "def AQI_Range(x):\n",
    "    if x<=50:\n",
    "        return \"Good\"\n",
    "    elif x>50 and x<=100:\n",
    "        return \"Moderate\"\n",
    "    elif x>100 and x<=200:\n",
    "        return \"Poor\"\n",
    "    elif x>200 and x<=300:\n",
    "        return \"Unhealthy\"\n",
    "    elif x>300 and x<=400:\n",
    "        return \"Very Unhealthy\"\n",
    "    elif x>400:\n",
    "        return \"Hazardous\"\n",
    "df['AQI_Range']=df['AQI'].apply(AQI_Range)\n",
    "df.head(5)"
   ]
  },
  {
   "cell_type": "markdown",
   "id": "14792f81",
   "metadata": {},
   "source": [
    "### Converting Date column to year and month"
   ]
  },
  {
   "cell_type": "code",
   "execution_count": 178,
   "id": "a0aa485e",
   "metadata": {},
   "outputs": [],
   "source": [
    "df['date'] = pd.to_datetime(df['date'])\n",
    "\n",
    "df['Year'] = df['date'].dt.year\n",
    "df['Month'] = df['date'].dt.month"
   ]
  },
  {
   "cell_type": "markdown",
   "id": "360f141f",
   "metadata": {},
   "source": [
    "### Yearwise list of top 10 cities of India which has the most Air Pollution"
   ]
  },
  {
   "cell_type": "code",
   "execution_count": 179,
   "id": "ab6092b2",
   "metadata": {},
   "outputs": [],
   "source": [
    "yearwise_top_10_cities = df.groupby(['Year', 'location'])['AQI'].max().reset_index()"
   ]
  },
  {
   "cell_type": "code",
   "execution_count": 180,
   "id": "6b6eeb50",
   "metadata": {},
   "outputs": [],
   "source": [
    "yearwise_top_10_cities = yearwise_top_10_cities.sort_values(by=['Year', 'AQI'], ascending=[True, False])"
   ]
  },
  {
   "cell_type": "code",
   "execution_count": 181,
   "id": "e8b289f7",
   "metadata": {},
   "outputs": [
    {
     "data": {
      "text/html": [
       "<div>\n",
       "<style scoped>\n",
       "    .dataframe tbody tr th:only-of-type {\n",
       "        vertical-align: middle;\n",
       "    }\n",
       "\n",
       "    .dataframe tbody tr th {\n",
       "        vertical-align: top;\n",
       "    }\n",
       "\n",
       "    .dataframe thead th {\n",
       "        text-align: right;\n",
       "    }\n",
       "</style>\n",
       "<table border=\"1\" class=\"dataframe\">\n",
       "  <thead>\n",
       "    <tr style=\"text-align: right;\">\n",
       "      <th></th>\n",
       "      <th>Year</th>\n",
       "      <th>location</th>\n",
       "      <th>AQI</th>\n",
       "    </tr>\n",
       "  </thead>\n",
       "  <tbody>\n",
       "    <tr>\n",
       "      <th>0</th>\n",
       "      <td>1970</td>\n",
       "      <td>Balasore</td>\n",
       "      <td>207.692308</td>\n",
       "    </tr>\n",
       "    <tr>\n",
       "      <th>2</th>\n",
       "      <td>1970</td>\n",
       "      <td>Chandrapur</td>\n",
       "      <td>207.692308</td>\n",
       "    </tr>\n",
       "    <tr>\n",
       "      <th>1</th>\n",
       "      <td>1970</td>\n",
       "      <td>Bangalore</td>\n",
       "      <td>41.666667</td>\n",
       "    </tr>\n",
       "    <tr>\n",
       "      <th>3</th>\n",
       "      <td>1970</td>\n",
       "      <td>Guwahati</td>\n",
       "      <td>0.000000</td>\n",
       "    </tr>\n",
       "    <tr>\n",
       "      <th>13</th>\n",
       "      <td>1987</td>\n",
       "      <td>Howrah</td>\n",
       "      <td>626.046512</td>\n",
       "    </tr>\n",
       "    <tr>\n",
       "      <th>9</th>\n",
       "      <td>1987</td>\n",
       "      <td>Delhi</td>\n",
       "      <td>511.395349</td>\n",
       "    </tr>\n",
       "    <tr>\n",
       "      <th>14</th>\n",
       "      <td>1987</td>\n",
       "      <td>Jharia</td>\n",
       "      <td>484.418605</td>\n",
       "    </tr>\n",
       "    <tr>\n",
       "      <th>16</th>\n",
       "      <td>1987</td>\n",
       "      <td>Ludhiana</td>\n",
       "      <td>480.697674</td>\n",
       "    </tr>\n",
       "    <tr>\n",
       "      <th>6</th>\n",
       "      <td>1987</td>\n",
       "      <td>Anpara</td>\n",
       "      <td>478.604651</td>\n",
       "    </tr>\n",
       "    <tr>\n",
       "      <th>4</th>\n",
       "      <td>1987</td>\n",
       "      <td>Agra</td>\n",
       "      <td>457.441860</td>\n",
       "    </tr>\n",
       "  </tbody>\n",
       "</table>\n",
       "</div>"
      ],
      "text/plain": [
       "    Year    location         AQI\n",
       "0   1970    Balasore  207.692308\n",
       "2   1970  Chandrapur  207.692308\n",
       "1   1970   Bangalore   41.666667\n",
       "3   1970    Guwahati    0.000000\n",
       "13  1987      Howrah  626.046512\n",
       "9   1987       Delhi  511.395349\n",
       "14  1987      Jharia  484.418605\n",
       "16  1987    Ludhiana  480.697674\n",
       "6   1987      Anpara  478.604651\n",
       "4   1987        Agra  457.441860"
      ]
     },
     "execution_count": 181,
     "metadata": {},
     "output_type": "execute_result"
    }
   ],
   "source": [
    " yearwise_top_10_cities.head(10)"
   ]
  },
  {
   "cell_type": "markdown",
   "id": "51cc38c4",
   "metadata": {},
   "source": [
    "### Yearwise list of top 10 states of India which has the most Air Pollution"
   ]
  },
  {
   "cell_type": "code",
   "execution_count": 182,
   "id": "802db0eb",
   "metadata": {},
   "outputs": [],
   "source": [
    "yearwise_top_10_states = df.groupby(['Year', 'state'])['AQI'].max().reset_index()"
   ]
  },
  {
   "cell_type": "code",
   "execution_count": 183,
   "id": "bc1715e0",
   "metadata": {},
   "outputs": [],
   "source": [
    "yearwise_top_10_states = yearwise_top_10_states.sort_values(by=['Year', 'AQI'], ascending=[True, False])"
   ]
  },
  {
   "cell_type": "code",
   "execution_count": 184,
   "id": "1610248a",
   "metadata": {},
   "outputs": [
    {
     "data": {
      "text/html": [
       "<div>\n",
       "<style scoped>\n",
       "    .dataframe tbody tr th:only-of-type {\n",
       "        vertical-align: middle;\n",
       "    }\n",
       "\n",
       "    .dataframe tbody tr th {\n",
       "        vertical-align: top;\n",
       "    }\n",
       "\n",
       "    .dataframe thead th {\n",
       "        text-align: right;\n",
       "    }\n",
       "</style>\n",
       "<table border=\"1\" class=\"dataframe\">\n",
       "  <thead>\n",
       "    <tr style=\"text-align: right;\">\n",
       "      <th></th>\n",
       "      <th>Year</th>\n",
       "      <th>state</th>\n",
       "      <th>AQI</th>\n",
       "    </tr>\n",
       "  </thead>\n",
       "  <tbody>\n",
       "    <tr>\n",
       "      <th>2</th>\n",
       "      <td>1970</td>\n",
       "      <td>Maharashtra</td>\n",
       "      <td>207.692308</td>\n",
       "    </tr>\n",
       "    <tr>\n",
       "      <th>3</th>\n",
       "      <td>1970</td>\n",
       "      <td>Odisha</td>\n",
       "      <td>207.692308</td>\n",
       "    </tr>\n",
       "    <tr>\n",
       "      <th>0</th>\n",
       "      <td>1970</td>\n",
       "      <td>Karnataka</td>\n",
       "      <td>41.666667</td>\n",
       "    </tr>\n",
       "    <tr>\n",
       "      <th>1</th>\n",
       "      <td>1970</td>\n",
       "      <td>Lakshadweep</td>\n",
       "      <td>0.000000</td>\n",
       "    </tr>\n",
       "    <tr>\n",
       "      <th>4</th>\n",
       "      <td>1970</td>\n",
       "      <td>Tripura</td>\n",
       "      <td>0.000000</td>\n",
       "    </tr>\n",
       "    <tr>\n",
       "      <th>5</th>\n",
       "      <td>1970</td>\n",
       "      <td>andaman-and-nicobar-islands</td>\n",
       "      <td>0.000000</td>\n",
       "    </tr>\n",
       "    <tr>\n",
       "      <th>20</th>\n",
       "      <td>1987</td>\n",
       "      <td>West Bengal</td>\n",
       "      <td>626.046512</td>\n",
       "    </tr>\n",
       "    <tr>\n",
       "      <th>7</th>\n",
       "      <td>1987</td>\n",
       "      <td>Delhi</td>\n",
       "      <td>511.395349</td>\n",
       "    </tr>\n",
       "    <tr>\n",
       "      <th>6</th>\n",
       "      <td>1987</td>\n",
       "      <td>Bihar</td>\n",
       "      <td>484.418605</td>\n",
       "    </tr>\n",
       "    <tr>\n",
       "      <th>16</th>\n",
       "      <td>1987</td>\n",
       "      <td>Punjab</td>\n",
       "      <td>480.697674</td>\n",
       "    </tr>\n",
       "  </tbody>\n",
       "</table>\n",
       "</div>"
      ],
      "text/plain": [
       "    Year                        state         AQI\n",
       "2   1970                  Maharashtra  207.692308\n",
       "3   1970                       Odisha  207.692308\n",
       "0   1970                    Karnataka   41.666667\n",
       "1   1970                  Lakshadweep    0.000000\n",
       "4   1970                      Tripura    0.000000\n",
       "5   1970  andaman-and-nicobar-islands    0.000000\n",
       "20  1987                  West Bengal  626.046512\n",
       "7   1987                        Delhi  511.395349\n",
       "6   1987                        Bihar  484.418605\n",
       "16  1987                       Punjab  480.697674"
      ]
     },
     "execution_count": 184,
     "metadata": {},
     "output_type": "execute_result"
    }
   ],
   "source": [
    " yearwise_top_10_states.head(10)"
   ]
  },
  {
   "cell_type": "markdown",
   "id": "e119b3bc",
   "metadata": {},
   "source": [
    "### Monthwise Air Quality of Delhi for the year 2021"
   ]
  },
  {
   "cell_type": "code",
   "execution_count": 186,
   "id": "b84051ba",
   "metadata": {},
   "outputs": [],
   "source": [
    "desired_city = 'Delhi'\n",
    "desired_year = 2021"
   ]
  },
  {
   "cell_type": "code",
   "execution_count": 187,
   "id": "42735a5c",
   "metadata": {},
   "outputs": [],
   "source": [
    "filtered_data = df[(df['location'] == desired_city) & (df['Year'] == desired_year)]"
   ]
  },
  {
   "cell_type": "code",
   "execution_count": 188,
   "id": "0682345b",
   "metadata": {},
   "outputs": [],
   "source": [
    "monthly_aqi = filtered_data.groupby('Month')['AQI'].mean().reset_index()"
   ]
  },
  {
   "cell_type": "code",
   "execution_count": 189,
   "id": "3917272f",
   "metadata": {},
   "outputs": [],
   "source": [
    "monthly_aqi['MonthName'] = monthly_aqi['Month'].apply(lambda x: pd.Timestamp(year=desired_year, month=x, day=1).strftime('%B'))"
   ]
  },
  {
   "cell_type": "code",
   "execution_count": 190,
   "id": "876987c5",
   "metadata": {},
   "outputs": [],
   "source": [
    "monthly_aqi = monthly_aqi.sort_values(by='Month')"
   ]
  },
  {
   "cell_type": "code",
   "execution_count": 191,
   "id": "41472309",
   "metadata": {},
   "outputs": [
    {
     "name": "stdout",
     "output_type": "stream",
     "text": [
      "Empty DataFrame\n",
      "Columns: [Month, AQI, MonthName]\n",
      "Index: []\n"
     ]
    }
   ],
   "source": [
    "print(monthly_aqi)"
   ]
  },
  {
   "cell_type": "markdown",
   "id": "5f14b809",
   "metadata": {},
   "source": [
    "### Monthwise Air Quality of Delhi for the year 1987"
   ]
  },
  {
   "cell_type": "code",
   "execution_count": 192,
   "id": "86ff6f8f",
   "metadata": {},
   "outputs": [],
   "source": [
    "desired_city = 'Delhi'\n",
    "desired_year = 1987"
   ]
  },
  {
   "cell_type": "code",
   "execution_count": 193,
   "id": "442f8358",
   "metadata": {},
   "outputs": [],
   "source": [
    "filtered_data = df[(df['location'] == desired_city) & (df['Year'] == desired_year)]\n",
    "monthly_aqi = filtered_data.groupby('Month')['AQI'].mean().reset_index()\n",
    "monthly_aqi['MonthName'] = monthly_aqi['Month'].apply(lambda x: pd.Timestamp(year=desired_year, month=x, day=1).strftime('%B'))\n",
    "monthly_aqi = monthly_aqi.sort_values(by='Month')"
   ]
  },
  {
   "cell_type": "code",
   "execution_count": 194,
   "id": "796ef265",
   "metadata": {},
   "outputs": [
    {
     "name": "stdout",
     "output_type": "stream",
     "text": [
      "   Month         AQI MonthName\n",
      "0      1  412.504360   January\n",
      "1      2  410.111434  February\n",
      "2      3  428.042636     March\n",
      "3      4  287.000000     April\n"
     ]
    }
   ],
   "source": [
    "print(monthly_aqi)"
   ]
  },
  {
   "cell_type": "code",
   "execution_count": null,
   "id": "8e95595a",
   "metadata": {},
   "outputs": [],
   "source": []
  }
 ],
 "metadata": {
  "kernelspec": {
   "display_name": "Python 3",
   "language": "python",
   "name": "python3"
  },
  "language_info": {
   "codemirror_mode": {
    "name": "ipython",
    "version": 3
   },
   "file_extension": ".py",
   "mimetype": "text/x-python",
   "name": "python",
   "nbconvert_exporter": "python",
   "pygments_lexer": "ipython3",
   "version": "3.8.8"
  }
 },
 "nbformat": 4,
 "nbformat_minor": 5
}
